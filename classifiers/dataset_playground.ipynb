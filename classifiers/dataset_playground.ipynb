{
 "cells": [
  {
   "cell_type": "code",
   "execution_count": 1,
   "metadata": {},
   "outputs": [],
   "source": [
    "from __future__ import print_function, division\n",
    "import os\n",
    "import torch\n",
    "import pandas as pd\n",
    "from skimage import io, transform\n",
    "import numpy as np\n",
    "import matplotlib.pyplot as plt\n",
    "from torch.utils.data import Dataset, DataLoader\n",
    "from torchvision import transforms, utils\n",
    "from PIL import Image, ImageDraw"
   ]
  },
  {
   "cell_type": "code",
   "execution_count": 2,
   "metadata": {},
   "outputs": [],
   "source": [
    "import ujson as json"
   ]
  },
  {
   "cell_type": "code",
   "execution_count": 3,
   "metadata": {},
   "outputs": [],
   "source": [
    "from binary_file_parser import *"
   ]
  },
  {
   "cell_type": "code",
   "execution_count": 4,
   "metadata": {},
   "outputs": [],
   "source": [
    "from utils import *"
   ]
  },
  {
   "cell_type": "code",
   "execution_count": 5,
   "metadata": {},
   "outputs": [],
   "source": [
    "great_wall_path = \"/Users/lindahuang/Documents/CS_Git_Coursework/Let-s-Doodle/classifiers/data/full_binary_The Great Wall of China.bin\""
   ]
  },
  {
   "cell_type": "code",
   "execution_count": 6,
   "metadata": {},
   "outputs": [],
   "source": [
    "great_wall_np = f'./data/full_numpy_bitmap_The Great Wall of China.npy'"
   ]
  },
  {
   "cell_type": "code",
   "execution_count": 7,
   "metadata": {},
   "outputs": [],
   "source": [
    "all_imgs = np.load(great_wall_np)"
   ]
  },
  {
   "cell_type": "code",
   "execution_count": 26,
   "metadata": {},
   "outputs": [],
   "source": [
    "all_imgs_lst = [one_img]"
   ]
  },
  {
   "cell_type": "code",
   "execution_count": 11,
   "metadata": {},
   "outputs": [],
   "source": [
    "drawings = unpack_drawings(great_wall_path)"
   ]
  },
  {
   "cell_type": "code",
   "execution_count": 30,
   "metadata": {},
   "outputs": [],
   "source": [
    "lst = []"
   ]
  },
  {
   "cell_type": "code",
   "execution_count": 31,
   "metadata": {
    "collapsed": true,
    "jupyter": {
     "outputs_hidden": true
    }
   },
   "outputs": [
    {
     "name": "stdout",
     "output_type": "stream",
     "text": [
      "b'US'\n",
      "[((10, 41, 126, 153, 195, 219, 241), (49, 42, 47, 35, 8, 0, 0)), ((244, 244, 255), (0, 38, 89)), ((0, 10, 11), (61, 94, 115))]\n",
      "[255 115]\n",
      "b'US'\n",
      "[((0, 88, 115, 146, 156, 164, 173, 184, 216, 239, 250, 252), (33, 39, 30, 8, 7, 7, 15, 31, 18, 1, 1, 8)), ((255, 237, 178, 152, 121, 81), (31, 32, 63, 51, 64, 70))]\n",
      "[255  70]\n",
      "b'US'\n",
      "[((5, 0, 8, 22, 44, 73, 104, 130, 152, 164, 166, 158), (139, 37, 12, 0, 0, 14, 42, 81, 126, 174, 217, 255))]\n",
      "[166 255]\n",
      "b'SA'\n",
      "[((1, 1, 6, 16, 43, 89, 106, 120, 133, 217, 250), (146, 126, 117, 109, 101, 96, 83, 60, 49, 19, 0)), ((12, 34, 46, 59, 92, 119, 136, 163, 219, 241, 255), (195, 160, 149, 143, 147, 138, 119, 78, 57, 33, 22)), ((40, 37, 41, 65, 81, 95, 104, 108, 116, 121, 134, 142, 151, 162, 174, 182, 205, 213, 235, 254), (237, 214, 205, 226, 194, 210, 212, 208, 182, 175, 201, 208, 200, 178, 171, 174, 193, 194, 163, 151)), ((43, 50, 70, 97, 153, 202, 209, 228, 251), (186, 174, 163, 158, 161, 134, 136, 148, 123)), ((9, 15, 22, 30, 60, 78, 93, 119), (97, 73, 62, 52, 31, 28, 28, 44))]\n",
      "[255 237]\n",
      "b'RO'\n",
      "[((2, 2, 6), (8, 52, 87)), ((0, 53, 255, 255), (9, 2, 0, 91)), ((19, 38, 31, 25, 14, 19), (22, 21, 3, 9, 6, 24)), ((60, 64, 68, 92, 83), (3, 25, 29, 16, 1)), ((112, 128, 134, 141, 132), (1, 23, 25, 16, 2)), ((151, 165, 171, 181, 178), (5, 22, 25, 16, 2)), ((6, 255), (86, 86)), ((28, 26), (41, 72)), ((27, 48, 43, 45, 25), (42, 42, 63, 73, 73)), ((116, 116, 115, 143, 133, 114), (43, 66, 35, 46, 62, 66)), ((201, 203, 207, 211, 220, 224, 220, 204), (19, 46, 58, 59, 52, 38, 35, 41))]\n",
      "[255  91]\n"
     ]
    }
   ],
   "source": [
    "count = 0\n",
    "for drawing in unpack_drawings(great_wall_path):\n",
    "    # do something with the drawing\n",
    "    print(drawing['country_code'])\n",
    "    print(drawing['image'])\n",
    "    print(np.hstack(drawing['image']).max(axis=1))\n",
    "    lst.append(drawing['image'])\n",
    "    count += 1\n",
    "    if count == 5:\n",
    "        break"
   ]
  },
  {
   "cell_type": "code",
   "execution_count": 32,
   "metadata": {},
   "outputs": [],
   "source": [
    "raster_imgs = vector_to_raster(lst)"
   ]
  },
  {
   "cell_type": "code",
   "execution_count": 36,
   "metadata": {
    "collapsed": true,
    "jupyter": {
     "outputs_hidden": true
    }
   },
   "outputs": [
    {
     "data": {
      "image/png": "[encoded data removed]",
      "text/plain": [
       "<Figure size 432x288 with 1 Axes>"
      ]
     },
     "metadata": {
      "needs_background": "light"
     },
     "output_type": "display_data"
    },
    {
     "data": {
      "image/png": "[encoded data removed]",
      "text/plain": [
       "<Figure size 432x288 with 1 Axes>"
      ]
     },
     "metadata": {
      "needs_background": "light"
     },
     "output_type": "display_data"
    },
    {
     "data": {
      "image/png": "[encoded data removed]",
      "text/plain": [
       "<Figure size 432x288 with 1 Axes>"
      ]
     },
     "metadata": {
      "needs_background": "light"
     },
     "output_type": "display_data"
    },
    {
     "data": {
      "image/png": "[encoded data removed]",
      "text/plain": [
       "<Figure size 432x288 with 1 Axes>"
      ]
     },
     "metadata": {
      "needs_background": "light"
     },
     "output_type": "display_data"
    },
    {
     "data": {
      "image/png": "[encoded data removed]",
      "text/plain": [
       "<Figure size 432x288 with 1 Axes>"
      ]
     },
     "metadata": {
      "needs_background": "light"
     },
     "output_type": "display_data"
    }
   ],
   "source": [
    "for img in raster_imgs:\n",
    "    plt.imshow(img.reshape([28,28]))\n",
    "    plt.show()"
   ]
  },
  {
   "cell_type": "code",
   "execution_count": 8,
   "metadata": {},
   "outputs": [],
   "source": [
    "def open_ndjson(path: str) -> pd.DataFrame:\n",
    "    \"\"\"\n",
    "    Pass in input filepath to ndjson, return pandas DataFrame.\n",
    "    \"\"\"\n",
    "    records = map(json.loads, open(path, encoding=\"utf8\"))\n",
    "    return pd.DataFrame.from_records(records)"
   ]
  },
  {
   "cell_type": "code",
   "execution_count": 10,
   "metadata": {},
   "outputs": [
    {
     "data": {
      "text/html": [
       "<div>\n",
       "<style scoped>\n",
       "    .dataframe tbody tr th:only-of-type {\n",
       "        vertical-align: middle;\n",
       "    }\n",
       "\n",
       "    .dataframe tbody tr th {\n",
       "        vertical-align: top;\n",
       "    }\n",
       "\n",
       "    .dataframe thead th {\n",
       "        text-align: right;\n",
       "    }\n",
       "</style>\n",
       "<table border=\"1\" class=\"dataframe\">\n",
       "  <thead>\n",
       "    <tr style=\"text-align: right;\">\n",
       "      <th></th>\n",
       "      <th>word</th>\n",
       "      <th>countrycode</th>\n",
       "      <th>timestamp</th>\n",
       "      <th>recognized</th>\n",
       "      <th>key_id</th>\n",
       "      <th>drawing</th>\n",
       "    </tr>\n",
       "  </thead>\n",
       "  <tbody>\n",
       "    <tr>\n",
       "      <th>0</th>\n",
       "      <td>The Great Wall of China</td>\n",
       "      <td>US</td>\n",
       "      <td>2017-03-28 17:17:29.7274 UTC</td>\n",
       "      <td>True</td>\n",
       "      <td>4626156441567232</td>\n",
       "      <td>[[[10, 41, 126, 153, 195, 219, 241], [49, 42, ...</td>\n",
       "    </tr>\n",
       "    <tr>\n",
       "      <th>1</th>\n",
       "      <td>The Great Wall of China</td>\n",
       "      <td>US</td>\n",
       "      <td>2017-03-09 15:36:08.5549 UTC</td>\n",
       "      <td>True</td>\n",
       "      <td>6023940847697920</td>\n",
       "      <td>[[[0, 88, 115, 146, 156, 164, 173, 184, 216, 2...</td>\n",
       "    </tr>\n",
       "    <tr>\n",
       "      <th>2</th>\n",
       "      <td>The Great Wall of China</td>\n",
       "      <td>US</td>\n",
       "      <td>2017-03-15 16:38:08.73111 UTC</td>\n",
       "      <td>False</td>\n",
       "      <td>6159862251651072</td>\n",
       "      <td>[[[5, 0, 8, 22, 44, 73, 104, 130, 152, 164, 16...</td>\n",
       "    </tr>\n",
       "    <tr>\n",
       "      <th>3</th>\n",
       "      <td>The Great Wall of China</td>\n",
       "      <td>SA</td>\n",
       "      <td>2017-03-22 16:20:57.32064 UTC</td>\n",
       "      <td>True</td>\n",
       "      <td>5144913899421696</td>\n",
       "      <td>[[[1, 1, 6, 16, 43, 89, 106, 120, 133, 217, 25...</td>\n",
       "    </tr>\n",
       "    <tr>\n",
       "      <th>4</th>\n",
       "      <td>The Great Wall of China</td>\n",
       "      <td>RO</td>\n",
       "      <td>2017-03-01 22:11:57.65725 UTC</td>\n",
       "      <td>True</td>\n",
       "      <td>4637367665164288</td>\n",
       "      <td>[[[2, 2, 6], [8, 52, 87]], [[0, 53, 255, 255],...</td>\n",
       "    </tr>\n",
       "    <tr>\n",
       "      <th>...</th>\n",
       "      <td>...</td>\n",
       "      <td>...</td>\n",
       "      <td>...</td>\n",
       "      <td>...</td>\n",
       "      <td>...</td>\n",
       "      <td>...</td>\n",
       "    </tr>\n",
       "    <tr>\n",
       "      <th>193010</th>\n",
       "      <td>The Great Wall of China</td>\n",
       "      <td>TH</td>\n",
       "      <td>2017-03-15 06:28:28.45724 UTC</td>\n",
       "      <td>True</td>\n",
       "      <td>6666673492852736</td>\n",
       "      <td>[[[0, 5, 3, 10], [2, 28, 101, 120]], [[3, 15, ...</td>\n",
       "    </tr>\n",
       "    <tr>\n",
       "      <th>193011</th>\n",
       "      <td>The Great Wall of China</td>\n",
       "      <td>NO</td>\n",
       "      <td>2017-01-23 12:27:00.39448 UTC</td>\n",
       "      <td>True</td>\n",
       "      <td>4892208882778112</td>\n",
       "      <td>[[[8, 10, 21, 49, 225], [0, 6, 12, 16, 5]], [[...</td>\n",
       "    </tr>\n",
       "    <tr>\n",
       "      <th>193012</th>\n",
       "      <td>The Great Wall of China</td>\n",
       "      <td>RO</td>\n",
       "      <td>2017-03-20 00:49:46.79279 UTC</td>\n",
       "      <td>True</td>\n",
       "      <td>4577043926745088</td>\n",
       "      <td>[[[198, 190, 185, 178, 147, 126, 94, 82, 73, 6...</td>\n",
       "    </tr>\n",
       "    <tr>\n",
       "      <th>193013</th>\n",
       "      <td>The Great Wall of China</td>\n",
       "      <td>US</td>\n",
       "      <td>2017-01-30 19:44:48.34066 UTC</td>\n",
       "      <td>True</td>\n",
       "      <td>6378003191824384</td>\n",
       "      <td>[[[0, 53, 204], [36, 15, 2]], [[204, 242, 255]...</td>\n",
       "    </tr>\n",
       "    <tr>\n",
       "      <th>193014</th>\n",
       "      <td>The Great Wall of China</td>\n",
       "      <td>US</td>\n",
       "      <td>2017-03-04 04:03:09.57598 UTC</td>\n",
       "      <td>True</td>\n",
       "      <td>5516451739860992</td>\n",
       "      <td>[[[17, 13, 13, 16, 30, 42, 46, 50, 62, 64, 71,...</td>\n",
       "    </tr>\n",
       "  </tbody>\n",
       "</table>\n",
       "<p>193015 rows × 6 columns</p>\n",
       "</div>"
      ],
      "text/plain": [
       "                           word countrycode                      timestamp  \\\n",
       "0       The Great Wall of China          US   2017-03-28 17:17:29.7274 UTC   \n",
       "1       The Great Wall of China          US   2017-03-09 15:36:08.5549 UTC   \n",
       "2       The Great Wall of China          US  2017-03-15 16:38:08.73111 UTC   \n",
       "3       The Great Wall of China          SA  2017-03-22 16:20:57.32064 UTC   \n",
       "4       The Great Wall of China          RO  2017-03-01 22:11:57.65725 UTC   \n",
       "...                         ...         ...                            ...   \n",
       "193010  The Great Wall of China          TH  2017-03-15 06:28:28.45724 UTC   \n",
       "193011  The Great Wall of China          NO  2017-01-23 12:27:00.39448 UTC   \n",
       "193012  The Great Wall of China          RO  2017-03-20 00:49:46.79279 UTC   \n",
       "193013  The Great Wall of China          US  2017-01-30 19:44:48.34066 UTC   \n",
       "193014  The Great Wall of China          US  2017-03-04 04:03:09.57598 UTC   \n",
       "\n",
       "        recognized            key_id  \\\n",
       "0             True  4626156441567232   \n",
       "1             True  6023940847697920   \n",
       "2            False  6159862251651072   \n",
       "3             True  5144913899421696   \n",
       "4             True  4637367665164288   \n",
       "...            ...               ...   \n",
       "193010        True  6666673492852736   \n",
       "193011        True  4892208882778112   \n",
       "193012        True  4577043926745088   \n",
       "193013        True  6378003191824384   \n",
       "193014        True  5516451739860992   \n",
       "\n",
       "                                                  drawing  \n",
       "0       [[[10, 41, 126, 153, 195, 219, 241], [49, 42, ...  \n",
       "1       [[[0, 88, 115, 146, 156, 164, 173, 184, 216, 2...  \n",
       "2       [[[5, 0, 8, 22, 44, 73, 104, 130, 152, 164, 16...  \n",
       "3       [[[1, 1, 6, 16, 43, 89, 106, 120, 133, 217, 25...  \n",
       "4       [[[2, 2, 6], [8, 52, 87]], [[0, 53, 255, 255],...  \n",
       "...                                                   ...  \n",
       "193010  [[[0, 5, 3, 10], [2, 28, 101, 120]], [[3, 15, ...  \n",
       "193011  [[[8, 10, 21, 49, 225], [0, 6, 12, 16, 5]], [[...  \n",
       "193012  [[[198, 190, 185, 178, 147, 126, 94, 82, 73, 6...  \n",
       "193013  [[[0, 53, 204], [36, 15, 2]], [[204, 242, 255]...  \n",
       "193014  [[[17, 13, 13, 16, 30, 42, 46, 50, 62, 64, 71,...  \n",
       "\n",
       "[193015 rows x 6 columns]"
      ]
     },
     "execution_count": 10,
     "metadata": {},
     "output_type": "execute_result"
    }
   ],
   "source": [
    "class QuickDrawDataset(Dataset):\n",
    "    \"\"\"QuickDraw Dataset, data sourced from Google.\"\"\"\n",
    "    \n",
    "    def __init__(self, ndjson_file, transform=None):\n",
    "        \"\"\"\n",
    "        Args:\n",
    "            ndjson_file (string): Path to the ndsjon file with sketch information.\n",
    "            transform (callable, optional): Optional transform to be applied\n",
    "                on a sample.\n",
    "        \"\"\"\n",
    "        self.sketches = open_ndjson(ndjson_file)\n",
    "        self.transform = transform\n",
    "        self.LABEL_IDX = 0\n",
    "        self.IMG_IDX = 5\n",
    "\n",
    "    def __len__(self):\n",
    "        return len(self.sketches)\n",
    "\n",
    "    def __getitem__(self, idx):\n",
    "        if torch.is_tensor(idx):\n",
    "            idx = idx.tolist()\n",
    "            \n",
    "        img = self.sketches.iloc[idx, self.IMG_IDX]\n",
    "        label = self.sketches.iloc[idx, self.LABEL_IDX]\n",
    "        landmarks = np.array([landmarks])\n",
    "        landmarks = landmarks.astype('float').reshape(-1, 2)\n",
    "        sample = {'img': img, 'label': landmarks}\n",
    "\n",
    "        if self.transform:\n",
    "            sample = self.transform(sample)\n",
    "\n",
    "        return sample"
   ]
  },
  {
   "cell_type": "code",
   "execution_count": null,
   "metadata": {},
   "outputs": [],
   "source": []
  }
 ],
 "metadata": {
  "kernelspec": {
   "display_name": "machine_learning",
   "language": "python",
   "name": "machine_learning"
  },
  "language_info": {
   "codemirror_mode": {
    "name": "ipython",
    "version": 3
   },
   "file_extension": ".py",
   "mimetype": "text/x-python",
   "name": "python",
   "nbconvert_exporter": "python",
   "pygments_lexer": "ipython3",
   "version": "3.7.6"
  }
 },
 "nbformat": 4,
 "nbformat_minor": 4
}
